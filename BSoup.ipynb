{
 "cells": [
  {
   "cell_type": "code",
   "execution_count": 1,
   "metadata": {},
   "outputs": [
    {
     "name": "stderr",
     "output_type": "stream",
     "text": [
      "/Users/andrewschuetz/Library/Python/3.9/lib/python/site-packages/urllib3/__init__.py:35: NotOpenSSLWarning: urllib3 v2 only supports OpenSSL 1.1.1+, currently the 'ssl' module is compiled with 'LibreSSL 2.8.3'. See: https://github.com/urllib3/urllib3/issues/3020\n",
      "  warnings.warn(\n"
     ]
    }
   ],
   "source": [
    "from bs4 import BeautifulSoup\n",
    "import requests"
   ]
  },
  {
   "cell_type": "code",
   "execution_count": 2,
   "metadata": {},
   "outputs": [],
   "source": [
    "url = 'https://en.wikipedia.org/wiki/List_of_largest_companies_in_the_United_States_by_revenue'"
   ]
  },
  {
   "cell_type": "code",
   "execution_count": 3,
   "metadata": {},
   "outputs": [],
   "source": [
    "page = requests.get(url)"
   ]
  },
  {
   "cell_type": "code",
   "execution_count": 4,
   "metadata": {},
   "outputs": [],
   "source": [
    "soup = BeautifulSoup(page.text, 'html')\n"
   ]
  },
  {
   "cell_type": "code",
   "execution_count": 5,
   "metadata": {},
   "outputs": [],
   "source": [
    "#find the table tag with class of 'wikitable sortable'\n",
    "table = soup.find('table', class_ ='wikitable sortable')"
   ]
  },
  {
   "cell_type": "code",
   "execution_count": 6,
   "metadata": {},
   "outputs": [],
   "source": [
    "#find all table headers in the table variable\n",
    "world_titles = table.find_all('th')"
   ]
  },
  {
   "cell_type": "code",
   "execution_count": 7,
   "metadata": {},
   "outputs": [
    {
     "name": "stdout",
     "output_type": "stream",
     "text": [
      "['Rank', 'Name', 'Industry', 'Revenue (USD millions)', 'Revenue growth', 'Employees', 'Headquarters']\n"
     ]
    }
   ],
   "source": [
    "#Stripping whitespace from world_titles and storing them in a separate array\n",
    "world_table_titles = [title.text.strip() for title in world_titles]\n",
    "print(world_table_titles)"
   ]
  },
  {
   "cell_type": "code",
   "execution_count": 8,
   "metadata": {},
   "outputs": [
    {
     "name": "stderr",
     "output_type": "stream",
     "text": [
      "/var/folders/5q/m01lxkx11579_bn2bhzm46800000gn/T/ipykernel_43439/4080736814.py:1: DeprecationWarning: \n",
      "Pyarrow will become a required dependency of pandas in the next major release of pandas (pandas 3.0),\n",
      "(to allow more performant data types, such as the Arrow string type, and better interoperability with other libraries)\n",
      "but was not found to be installed on your system.\n",
      "If this would cause problems for you,\n",
      "please provide us feedback at https://github.com/pandas-dev/pandas/issues/54466\n",
      "        \n",
      "  import pandas as pd\n"
     ]
    }
   ],
   "source": [
    "import pandas as pd"
   ]
  },
  {
   "cell_type": "code",
   "execution_count": 9,
   "metadata": {},
   "outputs": [
    {
     "data": {
      "text/html": [
       "<div>\n",
       "<style scoped>\n",
       "    .dataframe tbody tr th:only-of-type {\n",
       "        vertical-align: middle;\n",
       "    }\n",
       "\n",
       "    .dataframe tbody tr th {\n",
       "        vertical-align: top;\n",
       "    }\n",
       "\n",
       "    .dataframe thead th {\n",
       "        text-align: right;\n",
       "    }\n",
       "</style>\n",
       "<table border=\"1\" class=\"dataframe\">\n",
       "  <thead>\n",
       "    <tr style=\"text-align: right;\">\n",
       "      <th></th>\n",
       "      <th>Rank</th>\n",
       "      <th>Name</th>\n",
       "      <th>Industry</th>\n",
       "      <th>Revenue (USD millions)</th>\n",
       "      <th>Revenue growth</th>\n",
       "      <th>Employees</th>\n",
       "      <th>Headquarters</th>\n",
       "    </tr>\n",
       "  </thead>\n",
       "  <tbody>\n",
       "  </tbody>\n",
       "</table>\n",
       "</div>"
      ],
      "text/plain": [
       "Empty DataFrame\n",
       "Columns: [Rank, Name, Industry, Revenue (USD millions), Revenue growth, Employees, Headquarters]\n",
       "Index: []"
      ]
     },
     "execution_count": 9,
     "metadata": {},
     "output_type": "execute_result"
    }
   ],
   "source": [
    "# Create an empty DataFrame with column names taken from world_table_titles\n",
    "# world_table_titles should be a list containing the column names\n",
    "df = pd.DataFrame(columns = world_table_titles)\n",
    "\n",
    "df"
   ]
  },
  {
   "cell_type": "code",
   "execution_count": 10,
   "metadata": {},
   "outputs": [],
   "source": [
    "# Find all table rows ('tr' elements) within the 'table' element\n",
    "# table should be a BeautifulSoup Tag object representing the HTML table\n",
    "column_data = table.find_all('tr')"
   ]
  },
  {
   "cell_type": "code",
   "execution_count": 11,
   "metadata": {},
   "outputs": [],
   "source": [
    "for row in column_data[1:]:\n",
    "    # Find all table data ('td' elements) within the current table row ('tr' element)\n",
    "    row_data = row.find_all('td')\n",
    "\n",
    "    # Extract the text content from each table data element and strip any leading or trailing whitespace\n",
    "    individual_row_data = [data.text.strip() for data in row_data]\n",
    "    #print(individual_row_data)\n",
    "\n",
    "    # Add a new row to the DataFrame with the extracted data\n",
    "\n",
    "    # Get the current length of the DataFrame\n",
    "    length = len(df)\n",
    "    # Assign the individual_row_data to the new row in the DataFrame\n",
    "    df.loc[length] = individual_row_data"
   ]
  },
  {
   "cell_type": "code",
   "execution_count": 12,
   "metadata": {},
   "outputs": [
    {
     "data": {
      "text/html": [
       "<div>\n",
       "<style scoped>\n",
       "    .dataframe tbody tr th:only-of-type {\n",
       "        vertical-align: middle;\n",
       "    }\n",
       "\n",
       "    .dataframe tbody tr th {\n",
       "        vertical-align: top;\n",
       "    }\n",
       "\n",
       "    .dataframe thead th {\n",
       "        text-align: right;\n",
       "    }\n",
       "</style>\n",
       "<table border=\"1\" class=\"dataframe\">\n",
       "  <thead>\n",
       "    <tr style=\"text-align: right;\">\n",
       "      <th></th>\n",
       "      <th>Rank</th>\n",
       "      <th>Name</th>\n",
       "      <th>Industry</th>\n",
       "      <th>Revenue (USD millions)</th>\n",
       "      <th>Revenue growth</th>\n",
       "      <th>Employees</th>\n",
       "      <th>Headquarters</th>\n",
       "    </tr>\n",
       "  </thead>\n",
       "  <tbody>\n",
       "    <tr>\n",
       "      <th>0</th>\n",
       "      <td>1</td>\n",
       "      <td>Walmart</td>\n",
       "      <td>Retail</td>\n",
       "      <td>611,289</td>\n",
       "      <td>6.7%</td>\n",
       "      <td>2,100,000</td>\n",
       "      <td>Bentonville, Arkansas</td>\n",
       "    </tr>\n",
       "    <tr>\n",
       "      <th>1</th>\n",
       "      <td>2</td>\n",
       "      <td>Amazon</td>\n",
       "      <td>Retail and cloud computing</td>\n",
       "      <td>513,983</td>\n",
       "      <td>9.4%</td>\n",
       "      <td>1,540,000</td>\n",
       "      <td>Seattle, Washington</td>\n",
       "    </tr>\n",
       "    <tr>\n",
       "      <th>2</th>\n",
       "      <td>3</td>\n",
       "      <td>ExxonMobil</td>\n",
       "      <td>Petroleum industry</td>\n",
       "      <td>413,680</td>\n",
       "      <td>44.8%</td>\n",
       "      <td>62,000</td>\n",
       "      <td>Spring, Texas</td>\n",
       "    </tr>\n",
       "    <tr>\n",
       "      <th>3</th>\n",
       "      <td>4</td>\n",
       "      <td>Apple</td>\n",
       "      <td>Electronics industry</td>\n",
       "      <td>394,328</td>\n",
       "      <td>7.8%</td>\n",
       "      <td>164,000</td>\n",
       "      <td>Cupertino, California</td>\n",
       "    </tr>\n",
       "    <tr>\n",
       "      <th>4</th>\n",
       "      <td>5</td>\n",
       "      <td>UnitedHealth Group</td>\n",
       "      <td>Healthcare</td>\n",
       "      <td>324,162</td>\n",
       "      <td>12.7%</td>\n",
       "      <td>400,000</td>\n",
       "      <td>Minnetonka, Minnesota</td>\n",
       "    </tr>\n",
       "    <tr>\n",
       "      <th>...</th>\n",
       "      <td>...</td>\n",
       "      <td>...</td>\n",
       "      <td>...</td>\n",
       "      <td>...</td>\n",
       "      <td>...</td>\n",
       "      <td>...</td>\n",
       "      <td>...</td>\n",
       "    </tr>\n",
       "    <tr>\n",
       "      <th>95</th>\n",
       "      <td>96</td>\n",
       "      <td>Best Buy</td>\n",
       "      <td>Retail</td>\n",
       "      <td>46,298</td>\n",
       "      <td>10.6%</td>\n",
       "      <td>71,100</td>\n",
       "      <td>Richfield, Minnesota</td>\n",
       "    </tr>\n",
       "    <tr>\n",
       "      <th>96</th>\n",
       "      <td>97</td>\n",
       "      <td>Bristol-Myers Squibb</td>\n",
       "      <td>Pharmaceutical industry</td>\n",
       "      <td>46,159</td>\n",
       "      <td>0.5%</td>\n",
       "      <td>34,300</td>\n",
       "      <td>New York City, New York</td>\n",
       "    </tr>\n",
       "    <tr>\n",
       "      <th>97</th>\n",
       "      <td>98</td>\n",
       "      <td>United Airlines</td>\n",
       "      <td>Airline</td>\n",
       "      <td>44,955</td>\n",
       "      <td>82.5%</td>\n",
       "      <td>92,795</td>\n",
       "      <td>Chicago, Illinois</td>\n",
       "    </tr>\n",
       "    <tr>\n",
       "      <th>98</th>\n",
       "      <td>99</td>\n",
       "      <td>Thermo Fisher Scientific</td>\n",
       "      <td>Laboratory instruments</td>\n",
       "      <td>44,915</td>\n",
       "      <td>14.5%</td>\n",
       "      <td>130,000</td>\n",
       "      <td>Waltham, Massachusetts</td>\n",
       "    </tr>\n",
       "    <tr>\n",
       "      <th>99</th>\n",
       "      <td>100</td>\n",
       "      <td>Qualcomm</td>\n",
       "      <td>Technology</td>\n",
       "      <td>44,200</td>\n",
       "      <td>31.7%</td>\n",
       "      <td>51,000</td>\n",
       "      <td>San Diego, California</td>\n",
       "    </tr>\n",
       "  </tbody>\n",
       "</table>\n",
       "<p>100 rows × 7 columns</p>\n",
       "</div>"
      ],
      "text/plain": [
       "   Rank                      Name                    Industry  \\\n",
       "0     1                   Walmart                      Retail   \n",
       "1     2                    Amazon  Retail and cloud computing   \n",
       "2     3                ExxonMobil          Petroleum industry   \n",
       "3     4                     Apple        Electronics industry   \n",
       "4     5        UnitedHealth Group                  Healthcare   \n",
       "..  ...                       ...                         ...   \n",
       "95   96                  Best Buy                      Retail   \n",
       "96   97      Bristol-Myers Squibb     Pharmaceutical industry   \n",
       "97   98           United Airlines                     Airline   \n",
       "98   99  Thermo Fisher Scientific      Laboratory instruments   \n",
       "99  100                  Qualcomm                  Technology   \n",
       "\n",
       "   Revenue (USD millions) Revenue growth  Employees             Headquarters  \n",
       "0                 611,289           6.7%  2,100,000    Bentonville, Arkansas  \n",
       "1                 513,983           9.4%  1,540,000      Seattle, Washington  \n",
       "2                 413,680          44.8%     62,000            Spring, Texas  \n",
       "3                 394,328           7.8%    164,000    Cupertino, California  \n",
       "4                 324,162          12.7%    400,000    Minnetonka, Minnesota  \n",
       "..                    ...            ...        ...                      ...  \n",
       "95                 46,298          10.6%     71,100     Richfield, Minnesota  \n",
       "96                 46,159           0.5%     34,300  New York City, New York  \n",
       "97                 44,955          82.5%     92,795        Chicago, Illinois  \n",
       "98                 44,915          14.5%    130,000   Waltham, Massachusetts  \n",
       "99                 44,200          31.7%     51,000    San Diego, California  \n",
       "\n",
       "[100 rows x 7 columns]"
      ]
     },
     "execution_count": 12,
     "metadata": {},
     "output_type": "execute_result"
    }
   ],
   "source": [
    "df"
   ]
  },
  {
   "cell_type": "code",
   "execution_count": 15,
   "metadata": {},
   "outputs": [],
   "source": [
    "# Save the DataFrame to a CSV file\n",
    "# '/Users/andrewschuetz/Desktop/Companies.csv' is the file path where the CSV will be saved\n",
    "# Setting index=False ensures that the index labels are not included in the CSV\n",
    "df.to_csv(r'/Users/andrewschuetz/Desktop/Companies.csv', index=False)\n",
    "\n",
    "\n"
   ]
  },
  {
   "cell_type": "code",
   "execution_count": null,
   "metadata": {},
   "outputs": [],
   "source": []
  }
 ],
 "metadata": {
  "kernelspec": {
   "display_name": "Python 3",
   "language": "python",
   "name": "python3"
  },
  "language_info": {
   "codemirror_mode": {
    "name": "ipython",
    "version": 3
   },
   "file_extension": ".py",
   "mimetype": "text/x-python",
   "name": "python",
   "nbconvert_exporter": "python",
   "pygments_lexer": "ipython3",
   "version": "3.9.6"
  }
 },
 "nbformat": 4,
 "nbformat_minor": 2
}
